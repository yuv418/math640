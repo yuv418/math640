{
 "cells": [
  {
   "cell_type": "code",
   "execution_count": null,
   "id": "b4d80aa2-06e6-4431-a473-9648de2bcdff",
   "metadata": {
    "collapsed": false
   },
   "outputs": [],
   "source": [
    "MyIfactor(n) := proc(a) local n: \n",
    "od: "
   ]
  },
  {
   "cell_type": "code",
   "execution_count": null,
   "id": "00cb3a70-b1c5-427d-8cf9-a38d9ac92289",
   "metadata": {
    "collapsed": false
   },
   "outputs": [],
   "source": [
    "plot(sin(x))"
   ]
  },
  {
   "cell_type": "code",
   "execution_count": null,
   "id": "8d8f9fa8-0893-4472-9041-655ea5b4269a",
   "metadata": {
    "collapsed": false
   },
   "outputs": [],
   "source": [
    "ithprime(123)"
   ]
  },
  {
   "cell_type": "code",
   "execution_count": null,
   "id": "f02f28aa-3125-4c9a-9f48-3ca388b92bde",
   "metadata": {
    "collapsed": false
   },
   "outputs": [],
   "source": []
  }
 ],
 "metadata": {
  "kernelspec": {
   "argv": [
    "/home/nonuser/maple2023/bin/maple",
    "-jupyter",
    "{connection_file}"
   ],
   "display_name": "Maple 2023",
   "env": null,
   "interrupt_mode": "signal",
   "language": "maple",
   "metadata": null,
   "name": "maple"
  },
  "language_info": {
   "name": "maple"
  },
  "name": "thing.ipynb"
 },
 "nbformat": 4,
 "nbformat_minor": 2
}
