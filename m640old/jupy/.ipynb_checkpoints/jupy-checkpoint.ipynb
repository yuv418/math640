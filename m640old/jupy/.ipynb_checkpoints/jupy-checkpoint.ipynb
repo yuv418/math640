{
 "cells": [
  {
   "cell_type": "code",
   "execution_count": null,
   "id": "30ca599d-a02b-4dcd-8b65-104bb8faadf9",
   "metadata": {},
   "outputs": [],
   "source": []
  }
 ],
 "metadata": {
  "kernelspec": {
   "display_name": "Maple 2023",
   "language": "maple",
   "name": "maple"
  },
  "language_info": {
   "file_extension": ".mpl",
   "mimetype": "application/vnd.maple.mpl",
   "name": "maple",
   "version": "2023"
  }
 },
 "nbformat": 4,
 "nbformat_minor": 5
}
